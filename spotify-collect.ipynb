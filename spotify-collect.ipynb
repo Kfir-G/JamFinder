{
 "cells": [
  {
   "cell_type": "markdown",
   "metadata": {},
   "source": [
    "Mining Data- Spotify Generes "
   ]
  },
  {
   "cell_type": "markdown",
   "metadata": {},
   "source": []
  },
  {
   "cell_type": "markdown",
   "metadata": {},
   "source": [
    "Using Spotify API and spotipy python library"
   ]
  },
  {
   "cell_type": "code",
   "execution_count": null,
   "metadata": {},
   "outputs": [],
   "source": [
    "import sys\n",
    "import spotipy\n",
    "import spotipy.util as util\n",
    "from spotipy.oauth2 import SpotifyClientCredentials\n",
    "import itertools\n",
    "import pandas as pd\n",
    "\n",
    "SPOTIPY_CLIENT_ID=''\n",
    "SPOTIPY_CLIENT_SECRET=''\n",
    "\n",
    "client_credentials_manager = SpotifyClientCredentials(SPOTIPY_CLIENT_ID,SPOTIPY_CLIENT_SECRET)\n",
    "sp = spotipy.Spotify(client_credentials_manager=client_credentials_manager, requests_timeout=20)"
   ]
  },
  {
   "cell_type": "markdown",
   "metadata": {},
   "source": [
    "Collecting songs from playlists in offical Spotify account"
   ]
  },
  {
   "cell_type": "code",
   "execution_count": null,
   "metadata": {},
   "outputs": [],
   "source": [
    "playlists = sp.user_playlists('spotify')\n",
    "playlist_ids = []\n",
    "\n",
    "while playlists:\n",
    "    for i, playlist in enumerate(playlists['items']):\n",
    "        playlist_ids.append(playlist['id'])\n",
    "    if playlists['next']:\n",
    "        playlists = sp.next(playlists)\n",
    "    else:\n",
    "        playlists = None"
   ]
  },
  {
   "cell_type": "code",
   "execution_count": null,
   "metadata": {},
   "outputs": [],
   "source": [
    "print(playlists)"
   ]
  },
  {
   "cell_type": "markdown",
   "metadata": {},
   "source": [
    "Get the artists from the songs"
   ]
  },
  {
   "cell_type": "code",
   "execution_count": null,
   "metadata": {},
   "outputs": [],
   "source": [
    "trackslist = [] \n",
    "for j,i in enumerate(playlist_ids):\n",
    "    tracks = sp.playlist_tracks(i, limit = 100)\n",
    "    trackslist.append(tracks['items'])\n",
    "    while tracks['next']:\n",
    "        tracks = sp.next(tracks)\n",
    "        trackslist.append(tracks['items'])"
   ]
  },
  {
   "cell_type": "code",
   "execution_count": null,
   "metadata": {},
   "outputs": [],
   "source": [
    "\n",
    "\n",
    "tracks = [j['track'] for i in trackslist for j in i]\n",
    "artistids = [j['id'] for i in tracks if i!=None for j in i['artists']]\n",
    "artistids = pd.Series(artistids).drop_duplicates()\n",
    "artists = sp.artists(artistids[:50])['artists']\n",
    "for i in range(50,len(artistids),50):\n",
    "    artists.append(sp.artists(artistids[i:(i+50)])['artists'])\n",
    "artists = artists[:50] + [j for i in artists[50:] for j in i]"
   ]
  },
  {
   "cell_type": "code",
   "execution_count": null,
   "metadata": {},
   "outputs": [],
   "source": [
    "for j in range(len(artists)):\n",
    "        artists[j]['followers'] = artists[j]['followers']['total']\n",
    "artists = pd.DataFrame.from_dict(artists)\n",
    "artists = artists.drop_duplicates(subset = ['uri'])\n",
    "len(artists)"
   ]
  },
  {
   "cell_type": "markdown",
   "metadata": {},
   "source": [
    "Get \"related-artist\" for each artist"
   ]
  },
  {
   "cell_type": "code",
   "execution_count": null,
   "metadata": {},
   "outputs": [],
   "source": [
    "related_artists = []\n",
    "for j, i in enumerate(artistids):\n",
    "    related_artists.append(sp.artist_related_artists(i))\n",
    "related_artists = [i for i in related_artists if i!= None]\n",
    "related_artists = [i['artists'] for i in related_artists]\n",
    "len(related_artists)"
   ]
  },
  {
   "cell_type": "code",
   "execution_count": null,
   "metadata": {},
   "outputs": [],
   "source": [
    "relart = related_artists\n",
    "for i in range(len(relart)):\n",
    "    if relart[i]!=[]:\n",
    "        for j in range(len(relart[i])):\n",
    "            relart[i][j].update(source_id = artistids.iloc[i])\n",
    "relart = [j for i in relart for j in i]\n",
    "for i in range(len(relart)):\n",
    "    relart[i]['followers'] = relart[i]['followers']['total']\n",
    "relart = pd.DataFrame.from_dict(relart)"
   ]
  },
  {
   "cell_type": "code",
   "execution_count": null,
   "metadata": {},
   "outputs": [],
   "source": [
    "all_artist_data = pd.merge(artists, relart, left_on = 'id', right_on = 'source_id',suffixes=('_source', '_related'))\n",
    "all_artist_data = all_artist_data.drop_duplicates(subset = ['source_id','id_related'])\n",
    "all_artist_data = all_artist_data[['followers_source','genres_source','id_source','name_source','popularity_source','uri_source','followers_related', 'genres_related','id_related', 'name_related','popularity_related','uri_related']]\n",
    "all_artist_data.to_csv('all_artist_data_final.csv')"
   ]
  },
  {
   "cell_type": "code",
   "execution_count": null,
   "metadata": {},
   "outputs": [],
   "source": [
    "artists = artists[[ 'followers', 'genres','id','name','popularity','uri']]\n",
    "artists.to_csv('artist_data_final.csv')\n",
    "all_artist_data.head()"
   ]
  },
  {
   "cell_type": "code",
   "execution_count": null,
   "metadata": {},
   "outputs": [],
   "source": [
    "\n",
    "\n",
    "relart  = relart[[ 'followers', 'genres','id','name','popularity','uri']]\n",
    "allart = relart.append(artists)\n",
    "allart = allart.drop_duplicates(subset = ['id'])\n",
    "\n",
    "print(allart.head())\n",
    "allart.columns = ['followers', 'genres','spotify id','Label','popularity','uri']\n",
    "strgnrs = ['_'.join(i) for i in allart['genres']]\n",
    "allart['strgnrs'] = strgnrs"
   ]
  },
  {
   "cell_type": "code",
   "execution_count": null,
   "metadata": {},
   "outputs": [],
   "source": [
    "allart.to_csv('artists_nodes_gephi.csv', index = False)"
   ]
  },
  {
   "cell_type": "code",
   "execution_count": null,
   "metadata": {},
   "outputs": [],
   "source": [
    "all_artist_data.columns = ['followers_source','genres_source','id_source','Source','popularity_source','uri_source','followers_related', 'genres_related','id_related', 'Target','popularity_related','uri_related']\n",
    "all_artist_data.to_csv('artists_edges_gephi.csv', index = False)"
   ]
  }
 ],
 "metadata": {
  "interpreter": {
   "hash": "d0e9df1f8c8da1909a736ab5d717d534322d9f7ea1030237fd6b2709d5ec9063"
  },
  "kernelspec": {
   "display_name": "Python 3.10.0 64-bit",
   "language": "python",
   "name": "python3"
  },
  "language_info": {
   "codemirror_mode": {
    "name": "ipython",
    "version": 3
   },
   "file_extension": ".py",
   "mimetype": "text/x-python",
   "name": "python",
   "nbconvert_exporter": "python",
   "pygments_lexer": "ipython3",
   "version": "3.10.0"
  },
  "orig_nbformat": 4
 },
 "nbformat": 4,
 "nbformat_minor": 2
}
